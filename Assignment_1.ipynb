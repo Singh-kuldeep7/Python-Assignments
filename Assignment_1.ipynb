{
 "cells": [
  {
   "cell_type": "markdown",
   "id": "33069282",
   "metadata": {},
   "source": [
    "\n",
    "\n"
   ]
  },
  {
   "cell_type": "markdown",
   "id": "8665bb5e",
   "metadata": {},
   "source": [
    "# Python Basics\n",
    "## Topics Covered\n",
    "-- Syntax and Semantics"
   ]
  },
  {
   "cell_type": "markdown",
   "id": "c419d060",
   "metadata": {},
   "source": []
  },
  {
   "cell_type": "markdown",
   "id": "8a92221f",
   "metadata": {},
   "source": [
    "##### Question 1: Write a Python program to print \"Hello World\""
   ]
  },
  {
   "cell_type": "code",
   "execution_count": 6,
   "id": "3b86682f",
   "metadata": {},
   "outputs": [
    {
     "name": "stdout",
     "output_type": "stream",
     "text": [
      "Hello World\n"
     ]
    }
   ],
   "source": [
    "# Solution\n",
    "print(\"Hello World\")"
   ]
  },
  {
   "cell_type": "markdown",
   "id": "b1636ef6",
   "metadata": {},
   "source": [
    "##### Question 2: Write a Python program that takes a user input and prints it."
   ]
  },
  {
   "cell_type": "code",
   "execution_count": 9,
   "id": "d2a689aa",
   "metadata": {},
   "outputs": [
    {
     "name": "stdout",
     "output_type": "stream",
     "text": [
      "your city name is:\n"
     ]
    }
   ],
   "source": [
    "# Solution\n",
    "city=input(\"Enter the city name where you live\")\n",
    "print(f\"your city name is:{city}\")"
   ]
  },
  {
   "cell_type": "markdown",
   "id": "0a4b9547",
   "metadata": {},
   "source": [
    "##### Question 3:Write a program to check whether a number is positive, negative or zero"
   ]
  },
  {
   "cell_type": "code",
   "execution_count": 12,
   "id": "ae708cc0",
   "metadata": {},
   "outputs": [
    {
     "name": "stdout",
     "output_type": "stream",
     "text": [
      "you enter -1 which is negative number\n"
     ]
    }
   ],
   "source": [
    "#solution\n",
    "user_input=eval(input(\"Enter the number\"))\n",
    "if user_input >0:\n",
    "    print(f\"you enter {user_input} which is positive number\")\n",
    "elif user_input <0:\n",
    "    print(f\"you enter {user_input} which is negative number\")\n",
    "else:\n",
    "    print(f\"you enter {user_input} which is zero\")\n",
    "\n"
   ]
  },
  {
   "cell_type": "markdown",
   "id": "c9e17afa",
   "metadata": {},
   "source": [
    "**Question 4:** Write a Python program to find the largest of three numbers."
   ]
  },
  {
   "cell_type": "code",
   "execution_count": 13,
   "id": "04dfb07d",
   "metadata": {},
   "outputs": [
    {
     "name": "stdout",
     "output_type": "stream",
     "text": [
      "The largest number is 10.0\n"
     ]
    }
   ],
   "source": [
    "# Solution\n",
    "num1 = float(input(\"Enter first number: \"))\n",
    "num2 = float(input(\"Enter second number: \"))\n",
    "num3 = float(input(\"Enter third number: \"))\n",
    "\n",
    "if (num1 >= num2) and (num1 >= num3):\n",
    "    largest = num1\n",
    "elif (num2 >= num1) and (num2 >= num3):\n",
    "    largest = num2\n",
    "else:\n",
    "    largest = num3\n",
    "\n",
    "print(f\"The largest number is {largest}\")"
   ]
  },
  {
   "cell_type": "markdown",
   "id": "e68cc4a6",
   "metadata": {},
   "source": [
    "**Question 5:** Write a Python program to calculate the factorial of a number."
   ]
  },
  {
   "cell_type": "code",
   "execution_count": 14,
   "id": "f8adc6d0",
   "metadata": {},
   "outputs": [
    {
     "name": "stdout",
     "output_type": "stream",
     "text": [
      "The factorial of 4 is 24\n"
     ]
    }
   ],
   "source": [
    "# Solution\n",
    "def factorial(n):\n",
    "    if n == 0:\n",
    "        return 1\n",
    "    else:\n",
    "        return n * factorial(n-1)\n",
    "\n",
    "num = int(input(\"Enter a number: \"))\n",
    "print(f\"The factorial of {num} is {factorial(num)}\")"
   ]
  },
  {
   "cell_type": "code",
   "execution_count": null,
   "id": "c780d395",
   "metadata": {},
   "outputs": [],
   "source": []
  }
 ],
 "metadata": {
  "kernelspec": {
   "display_name": "base",
   "language": "python",
   "name": "python3"
  },
  "language_info": {
   "codemirror_mode": {
    "name": "ipython",
    "version": 3
   },
   "file_extension": ".py",
   "mimetype": "text/x-python",
   "name": "python",
   "nbconvert_exporter": "python",
   "pygments_lexer": "ipython3",
   "version": "3.13.5"
  }
 },
 "nbformat": 4,
 "nbformat_minor": 5
}
